{
 "cells": [
  {
   "cell_type": "code",
   "execution_count": 1,
   "metadata": {
    "ExecuteTime": {
     "end_time": "2024-03-29T08:59:41.905941Z",
     "start_time": "2024-03-29T08:59:41.324785Z"
    },
    "executionInfo": {
     "elapsed": 1059,
     "status": "ok",
     "timestamp": 1710910465091,
     "user": {
      "displayName": "Erlangga Ardiansyah R",
      "userId": "13870154829731247416"
     },
     "user_tz": -420
    },
    "id": "g4gzUeqwLDJh"
   },
   "outputs": [
    {
     "name": "stdout",
     "output_type": "stream",
     "text": [
      "Success Import Library!\n"
     ]
    }
   ],
   "source": [
    "import pandas as pd\n",
    "import requests as req\n",
    "import datetime\n",
    "import re\n",
    "\n",
    "from bs4 import BeautifulSoup as bs\n",
    "\n",
    "print(\"Success Import Library!\")"
   ]
  },
  {
   "cell_type": "code",
   "execution_count": 2,
   "metadata": {
    "ExecuteTime": {
     "end_time": "2024-03-29T08:59:42.569847Z",
     "start_time": "2024-03-29T08:59:42.566175Z"
    },
    "executionInfo": {
     "elapsed": 2,
     "status": "ok",
     "timestamp": 1710910744551,
     "user": {
      "displayName": "Erlangga Ardiansyah R",
      "userId": "13870154829731247416"
     },
     "user_tz": -420
    },
    "id": "X3ZDc99I-3EG"
   },
   "outputs": [],
   "source": [
    "def format_tanggal(day, month, year, long_time):\n",
    "    test_date = datetime.datetime.strptime(f\"{day}-{month}-{year}\", \"%d-%m-%Y\")\n",
    "    K = long_time # total of days\n",
    "    date_generated = pd.date_range(test_date, periods=K)\n",
    "    return date_generated\n",
    "\n",
    "time_now = datetime.datetime.now().strftime(\"%Y-%m-%d %H:%M:%S\")\n",
    "file_path = \"/Users/err/TELKOM DATA SCIENCE/SCRAPER-BERITA/scraper_berita/results/\""
   ]
  },
  {
   "cell_type": "code",
   "execution_count": 3,
   "metadata": {
    "ExecuteTime": {
     "end_time": "2024-03-29T08:59:46.293049Z",
     "start_time": "2024-03-29T08:59:46.275186Z"
    },
    "executionInfo": {
     "elapsed": 408,
     "status": "ok",
     "timestamp": 1710910773252,
     "user": {
      "displayName": "Erlangga Ardiansyah R",
      "userId": "13870154829731247416"
     },
     "user_tz": -420
    },
    "id": "SkM92m_H5Zd4"
   },
   "outputs": [],
   "source": [
    "def source_detik(dd, mm, mm2, yy, keyword, longtime2):\n",
    "    with open(file_path + f\"result_detik_{time_now}.csv\", \"a\") as file:\n",
    "        wr = csv.writer(file, delimiter=\",\")\n",
    "        wr.writerow(['title', 'released', 'url', 'content'])\n",
    "        count = 0\n",
    "\n",
    "        for i in range(mm, mm2+1):\n",
    "            date_generate = format_tanggal(dd, i, yy, longtime2)\n",
    "            formattgl = date_generate.strftime(\"%d-%m-%Y\")\n",
    "            for tgl in formattgl:\n",
    "                url = f\"https://news.detik.com/indeks?date={tgl}\"\n",
    "                ge = req.get(url).text\n",
    "                sop = bs(ge, 'lxml')\n",
    "                try:\n",
    "                    paging = sop.find_all('div', 'pagination text-center mgt-16 mgb-16')[0].find_all('a')[-2]\n",
    "                    last_page = paging.text\n",
    "                except:\n",
    "                    last_page = 1\n",
    "\n",
    "                for page in range(1, int(last_page) + 1):\n",
    "                    try:\n",
    "                        url_ = f\"https://news.detik.com/indeks/{page}?date={tgl}\"\n",
    "                        ge_ = req.get(url_).text\n",
    "                        sop_ = bs(ge_, \"lxml\")\n",
    "                        contai = sop_.find_all('div', class_='media__text')\n",
    "                        for x in contai:\n",
    "                            time = x.find('div', class_='media__date').find('span')['title'].split()\n",
    "                            if time[2].lower == 'jan':\n",
    "                                time[2] = 1\n",
    "                            elif time[2].lower == 'feb':\n",
    "                                time[2] = 2\n",
    "                            elif time[2].lower == 'mar':\n",
    "                                time[2] = 3\n",
    "                            elif time[2].lower == 'apr':\n",
    "                                time[2] = 4\n",
    "                            elif time[2].lower == 'mei':\n",
    "                                time[2] = 5\n",
    "                            elif time[2].lower == 'jun':\n",
    "                                time[2] = 6\n",
    "                            elif time[2].lower == 'jul':\n",
    "                                time[2] = 7\n",
    "                            elif time[2].lower == 'aug':\n",
    "                                time[2] = 8\n",
    "                            elif time[2].lower == 'sep':\n",
    "                                time[2] = 9\n",
    "                            elif time[2].lower == 'okt':\n",
    "                                time[2] = 10\n",
    "                            elif time[2].lower == 'nov':\n",
    "                                time[2] = 11\n",
    "                            elif time[2].lower == 'des':\n",
    "                                time[2] = 12\n",
    "\n",
    "                            tgl_ = f\"{time[1]}/{time[2]}/{time[3]} {time[4]} {time[5]}\"\n",
    "                            title = x.find('a').text\n",
    "                            link = x.find('a')['href']\n",
    "\n",
    "                            ge_a = req.get(f\"{link}?single=1\").text\n",
    "                            sop_a = bs(ge_a, 'lxml')\n",
    "                            content = sop_a.find_all('div', class_='detail__body-text itp_bodycontent')\n",
    "\n",
    "                            for i in content:\n",
    "                                isi = [x.text for x in i.find_all('p')]\n",
    "                                res_isi = ''.join(isi).replace('\\n', '').replace('DVERTISMENT', '').replace('SCROLL TO RESUME CONTENT', '')\n",
    "\n",
    "                                try:\n",
    "                                    if keyword.lower() in res_isi.lower():\n",
    "                                        wr.writerow([title, tgl_, link, res_isi])\n",
    "                                        count += 1\n",
    "                                        print(f\"[{count}][{tgl_}][DETIK] {title}\")\n",
    "#                                     wr.writerow([title, tgl_, link, res_isi])\n",
    "#                                     count += 1\n",
    "#                                     print(f\"[{count}][{tgl_}][DETIK] {title}\")\n",
    "                                except:\n",
    "                                    pass\n",
    "                    except:\n",
    "                        pass"
   ]
  },
  {
   "cell_type": "code",
   "execution_count": 33,
   "metadata": {
    "ExecuteTime": {
     "end_time": "2024-03-28T05:39:18.661720Z",
     "start_time": "2024-03-28T05:21:51.549067Z"
    }
   },
   "outputs": [
    {
     "name": "stdout",
     "output_type": "stream",
     "text": [
      "[1][01/Jan/2024 20:06 WIB][DETIK] Poros Gerakan Pemuda Tangerang Deklarasikan Dukung Ganjar-Mahfud\n",
      "[2][01/Jan/2024 19:00 WIB][DETIK] Ganjar Terima Dukungan Apmiso: Ini Menunjukkan Kekuatan Rakyat\n",
      "[3][01/Jan/2024 16:26 WIB][DETIK] TKN Enggan MNC Dominasi TV Penyelenggara Debat, Ini Kata Hary Tanoe\n",
      "[4][01/Jan/2024 15:23 WIB][DETIK] Momen Mardiono Gelar Silaturahmi Tirakatan Jelang Tahun Baru di Yogyakarta\n",
      "[5][01/Jan/2024 14:38 WIB][DETIK] Kata Gibran soal Klarifikasi Bawaslu Jakpus soal Bagi-bagi Susu Besok\n",
      "[6][01/Jan/2024 14:12 WIB][DETIK] Besok, Bawaslu Jakpus Klarifikasi Gibran soal Bagi-bagi Susu di CFD\n",
      "[7][01/Jan/2024 12:55 WIB][DETIK] Balasan TPN Ganjar ke Timnas AMIN Usai Temanya Disebut Nggak Jelas\n",
      "[8][01/Jan/2024 12:53 WIB][DETIK] Tahun Baru 2024, OSO Pesan Agar Milenial Pilih Pemimpin Harapan Bangsa\n",
      "[9][01/Jan/2024 11:59 WIB][DETIK] Santri-Kiai Banten Ajak Elite Politik Wujudkan Pemilu 2024 Kondusif\n",
      "[10][01/Jan/2024 10:59 WIB][DETIK] Fadel Muhammad Dorong Pengembangan Botuboluo Beach Park di Gorontalo\n",
      "[11][01/Jan/2024 10:46 WIB][DETIK] Pesan Tahun Baru, Mardiono Ajak Kader Doa-Tawakal untuk Kemenangan PPP\n",
      "[12][01/Jan/2024 09:04 WIB][DETIK] Timnas AMIN Balas TPN: Bagaimana Mau Menang, Orang Temanya Nggak Jelas\n",
      "[13][01/Jan/2024 08:45 WIB][DETIK] Komisi II DPR Akan Klarifikasi KPU Masalah Surat Suara di Taipei\n",
      "[14][01/Jan/2024 08:44 WIB][DETIK] Tahun Baru 2024, Ganjar: Tinggalkan yang Baperan, Mari Hidup Lebih Baik\n",
      "[15][01/Jan/2024 08:14 WIB][DETIK] PKB Jawab Nusron yang Sentil Cak Imin: Teruskan Saja Gagah-gagahan\n",
      "[16][01/Jan/2024 08:02 WIB][DETIK] Anies Bilang 'Utuh Semua' soal Beda Sikap Elite NasDem-Sudirman Said\n",
      "[17][01/Jan/2024 04:02 WIB][DETIK] Kapolri Imbau Jaga Kerukunan Jelang Pemilu 2024\n",
      "[18][01/Jan/2024 02:26 WIB][DETIK] Tahun Baru 2024, Heru Budi Pesan Jaga Persatuan Jelang Pemilu\n",
      "[19][01/Jan/2024 00:35 WIB][DETIK] Tahun Baru 2024, Begini Penampakan Atraksi 500 Drone di Bundaran HI\n",
      "[20][02/Jan/2024 23:42 WIB][DETIK] Dugaan Perusakan Baliho Prabowo-Gibran di Lahat Sumsel Dilaporkan\n",
      "[21][02/Jan/2024 23:34 WIB][DETIK] Cak Imin Sebut Pemilu Tak Berjalan Normal: Kita bikin Semua Transparan\n",
      "[22][02/Jan/2024 23:11 WIB][DETIK] Ganjar Minta KPU Usut soal Viral WNI di Malaysia Ngaku Tak Masuk DPT\n",
      "[23][02/Jan/2024 22:57 WIB][DETIK] Roy Suryo Dilaporkan ke Bareskrim soal Tuduhan Gibran Pakai 3 Mikrofon\n",
      "[24][02/Jan/2024 22:28 WIB][DETIK] KPU Sudah Terima Surat Keberatan TKN soal MNC Jadi Penyelenggara Debat Ketiga\n",
      "[25][02/Jan/2024 22:12 WIB][DETIK] 78 Anggota Polresta Bandara Soekarno-Hatta Naik Pangkat\n",
      "[26][02/Jan/2024 20:28 WIB][DETIK] Apakah Pemilu 2024 Libur Nasional? Cek Jadwalnya di Sini\n",
      "[27][02/Jan/2024 20:08 WIB][DETIK] Pentingnya Partisipasi Politik, Zita Anjani Ajak Anak Muda Jangan Golput\n",
      "[28][02/Jan/2024 19:43 WIB][DETIK] Cak Imin Mau Pemberian Bansos Ditunda Sampai Pemilu Selesai\n",
      "[29][02/Jan/2024 19:31 WIB][DETIK] Syarat Pengawas TPS Pemilu 2024, Cek di Sini!\n",
      "[30][02/Jan/2024 18:54 WIB][DETIK] Bawaslu Jakpus Tegaskan Sudah Kirim Surat Pemanggilan Gibran pada 29 Desember\n",
      "[31][02/Jan/2024 18:49 WIB][DETIK] Survei Puspoll: Elektabilitas PPP Lampaui 4%, Diprediksi Lolos Parlemen\n",
      "[32][02/Jan/2024 18:21 WIB][DETIK] Apa Beda KPPS dan PTPS? Ini Pengertian, Tugas, dan Syaratnya\n",
      "[33][02/Jan/2024 18:18 WIB][DETIK] Debat Capres Berikutnya Tanggal Berapa? Catat Jadwalnya!\n",
      "[34][02/Jan/2024 18:15 WIB][DETIK] Tanggal 10 Februari 2024 Libur Apa? Cek Jadwalnya di Sini\n",
      "[35][02/Jan/2024 17:49 WIB][DETIK] Mahfud Tegaskan Tak Ikut-ikut Anies Live TikTok: Saya Sudah Lama Main\n",
      "[36][02/Jan/2024 17:36 WIB][DETIK] Viral Video WNI di Malaysia Ngaku Tak Masuk DPT Pemilu 2024, Ini Kata KPU\n",
      "[37][02/Jan/2024 17:27 WIB][DETIK] Survei Puspoll Indonesia: Ganjar & Prabowo Berpeluang Lolos ke Putaran 2\n",
      "[38][02/Jan/2024 16:41 WIB][DETIK] Mahfud Md Ziarah ke Makam Bung Hatta, Meutia Hatta Dampingi\n",
      "[39][02/Jan/2024 16:11 WIB][DETIK] MNC Penyelenggara Debat Capres, Timnas AMIN: Kita Tahu Ownernya Pendukung 03\n",
      "[40][02/Jan/2024 16:05 WIB][DETIK] Tahun Baru, Petasan, dan Pesta Politik 2024\n",
      "[41][02/Jan/2024 16:05 WIB][DETIK] Kata Ganjar Usai 6 Oknum TNI Jadi Tersangka Penganiaya Relawan di Boyolali\n",
      "[42][02/Jan/2024 16:03 WIB][DETIK] TKN Kaget TPN Usulkan Pembagian Bansos Ditunda: Kok Setega Itu Ya?\n",
      "[43][02/Jan/2024 15:25 WIB][DETIK] Demi Rakyat, PAN Minta Bansos Tetap Disalurkan Sesuai Jadwal\n",
      "[44][02/Jan/2024 15:20 WIB][DETIK] TPN Minta Pembagian Bansos Ditunda, Sandiaga: Jangan Disetop, Kasihan\n",
      "[45][02/Jan/2024 15:10 WIB][DETIK] Tahun Baru, Tahun Pemilu (Damai)\n",
      "[46][02/Jan/2024 15:07 WIB][DETIK] Jubir AMIN Bantah Relawan soal 'Kekuatan 01 Bukan dari Parpol'\n",
      "[47][02/Jan/2024 14:15 WIB][DETIK] Bersikap Menjelang Pilpres 2024\n",
      "[48][02/Jan/2024 14:05 WIB][DETIK] Tahun Baru, Bamsoet Harap Pemilu 2024 Hasilkan Presiden Sehebat Jokowi\n",
      "[49][02/Jan/2024 13:56 WIB][DETIK] TNI Jelaskan Babinsa Data Warga yang Didatangi Prabowo: Untuk Bedah Rumah\n",
      "[50][02/Jan/2024 13:43 WIB][DETIK] Kaesang Targetkan Kader PSI di DPRD Tangsel-Banten Naik 2 Kali Lipat\n",
      "[51][02/Jan/2024 13:22 WIB][DETIK] Presiden Korsel Kutuk Keras Penikaman Ketua Oposisi Lee Jae Myung\n",
      "[52][02/Jan/2024 13:04 WIB][DETIK] Tahun Baru dan Wajah Politik Kita\n",
      "[53][02/Jan/2024 12:44 WIB][DETIK] Survei ICRC: Elektabilitas Ganjar-Mahfud Tempel Prabowo-Gibran\n",
      "[54][02/Jan/2024 12:25 WIB][DETIK] DPRD DKI Minta LRT-MRT-TransJ Bersih dari Atribut Kampanye\n",
      "[55][02/Jan/2024 12:21 WIB][DETIK] Awal 2024, Gerindra Instruksikan Kader Kerja Keras-Tak Terlena Survei\n",
      "[56][02/Jan/2024 11:41 WIB][DETIK] Sambut Tahun Baru 2024, Fadel Muhammad Ungkap 3 Harapan Besar untuk RI\n",
      "[57][02/Jan/2024 11:14 WIB][DETIK] Kaesang Kini Senang Dipanggil 'Gibran': Siapa Tahu Nanti Mau Masuk PSI\n",
      "[58][02/Jan/2024 11:04 WIB][DETIK] Kaesang Temui Relawan di Tangerang, Minta Gaungkan Prabowo-Gibran 1 Putaran\n",
      "[59][02/Jan/2024 10:19 WIB][DETIK] TKN Belum Terima Surat Panggilan Bawaslu soal Gibran Bagi-bagi Susu\n",
      "[60][02/Jan/2024 09:22 WIB][DETIK] Pemimpin Oposisi Korsel Ditikam di Leher Saat Konferensi Pers di Busan\n",
      "[61][02/Jan/2024 08:02 WIB][DETIK] Timnas AMIN vs TPN Ganjar Usai Disindir Temanya Nggak Jelas\n",
      "[62][02/Jan/2024 07:55 WIB][DETIK] KPU: Surat Suara Pemilu 2024 Dikirim ke Taipei via Pos Mulai Hari Ini\n",
      "[63][02/Jan/2024 07:31 WIB][DETIK] Pro Kontra Pembagian Bansos Jelang Coblosan Pemilu 2024\n",
      "[64][02/Jan/2024 00:16 WIB][DETIK] Ketua KPU Kabupaten Bogor Targetkan Tekan Angka Golput di Pemilu 2024\n"
     ]
    }
   ],
   "source": [
    "# tanggal mulai, dari bulan berapa, sampe bulan berapa, tahun, keyword, berapa hari\n",
    "\n",
    "\n",
    "source_detik(1, 1, 12, 2023, 'pemilu', 31)"
   ]
  },
  {
   "cell_type": "code",
   "execution_count": 34,
   "metadata": {
    "ExecuteTime": {
     "end_time": "2024-03-28T05:43:57.678389Z",
     "start_time": "2024-03-28T05:43:57.675941Z"
    }
   },
   "outputs": [],
   "source": [
    "def read_data(file_path):\n",
    "    df = pd.read_csv(file_path)\n",
    "    return df"
   ]
  },
  {
   "cell_type": "code",
   "execution_count": 35,
   "metadata": {
    "ExecuteTime": {
     "end_time": "2024-03-28T05:44:14.050181Z",
     "start_time": "2024-03-28T05:44:14.028094Z"
    },
    "id": "JqcCykSL5ZNu"
   },
   "outputs": [
    {
     "data": {
      "text/html": [
       "<div>\n",
       "<style scoped>\n",
       "    .dataframe tbody tr th:only-of-type {\n",
       "        vertical-align: middle;\n",
       "    }\n",
       "\n",
       "    .dataframe tbody tr th {\n",
       "        vertical-align: top;\n",
       "    }\n",
       "\n",
       "    .dataframe thead th {\n",
       "        text-align: right;\n",
       "    }\n",
       "</style>\n",
       "<table border=\"1\" class=\"dataframe\">\n",
       "  <thead>\n",
       "    <tr style=\"text-align: right;\">\n",
       "      <th></th>\n",
       "      <th>title</th>\n",
       "      <th>released</th>\n",
       "      <th>url</th>\n",
       "      <th>content</th>\n",
       "    </tr>\n",
       "  </thead>\n",
       "  <tbody>\n",
       "    <tr>\n",
       "      <th>0</th>\n",
       "      <td>Poros Gerakan Pemuda Tangerang Deklarasikan Du...</td>\n",
       "      <td>01/Jan/2024 20:06 WIB</td>\n",
       "      <td>https://news.detik.com/pemilu/d-7119488/poros-...</td>\n",
       "      <td>Poros Gerakan Pemuda (GP) Kabupaten Tangerang ...</td>\n",
       "    </tr>\n",
       "    <tr>\n",
       "      <th>1</th>\n",
       "      <td>Ganjar Terima Dukungan Apmiso: Ini Menunjukkan...</td>\n",
       "      <td>01/Jan/2024 19:00 WIB</td>\n",
       "      <td>https://news.detik.com/pemilu/d-7119408/ganjar...</td>\n",
       "      <td>Asosiasi Pedagang Mie dan Bakso (Apmiso) mende...</td>\n",
       "    </tr>\n",
       "    <tr>\n",
       "      <th>2</th>\n",
       "      <td>TKN Enggan MNC Dominasi TV Penyelenggara Debat...</td>\n",
       "      <td>01/Jan/2024 16:26 WIB</td>\n",
       "      <td>https://news.detik.com/pemilu/d-7119200/tkn-en...</td>\n",
       "      <td>Sekretaris Tim Kampanye Nasional (TKN) Prabowo...</td>\n",
       "    </tr>\n",
       "    <tr>\n",
       "      <th>3</th>\n",
       "      <td>Momen Mardiono Gelar Silaturahmi Tirakatan Jel...</td>\n",
       "      <td>01/Jan/2024 15:23 WIB</td>\n",
       "      <td>https://news.detik.com/pemilu/d-7119082/momen-...</td>\n",
       "      <td>Plt Ketua Umum Partai Persatuan Pembangunan (P...</td>\n",
       "    </tr>\n",
       "    <tr>\n",
       "      <th>4</th>\n",
       "      <td>Kata Gibran soal Klarifikasi Bawaslu Jakpus so...</td>\n",
       "      <td>01/Jan/2024 14:38 WIB</td>\n",
       "      <td>https://news.detik.com/pemilu/d-7119021/kata-g...</td>\n",
       "      <td>Cawapres nomor urut 2 Gibran Rakabuming Raka b...</td>\n",
       "    </tr>\n",
       "    <tr>\n",
       "      <th>...</th>\n",
       "      <td>...</td>\n",
       "      <td>...</td>\n",
       "      <td>...</td>\n",
       "      <td>...</td>\n",
       "    </tr>\n",
       "    <tr>\n",
       "      <th>59</th>\n",
       "      <td>Pemimpin Oposisi Korsel Ditikam di Leher Saat ...</td>\n",
       "      <td>02/Jan/2024 09:22 WIB</td>\n",
       "      <td>https://news.detik.com/internasional/d-7119874...</td>\n",
       "      <td>Pemimpin oposisi Korea Selatan (Korsel), Lee J...</td>\n",
       "    </tr>\n",
       "    <tr>\n",
       "      <th>60</th>\n",
       "      <td>Timnas AMIN vs TPN Ganjar Usai Disindir Temany...</td>\n",
       "      <td>02/Jan/2024 08:02 WIB</td>\n",
       "      <td>https://news.detik.com/pemilu/d-7119793/timnas...</td>\n",
       "      <td>Timnas AMIN (Anies Baswedan-Muhaimin Iskandar)...</td>\n",
       "    </tr>\n",
       "    <tr>\n",
       "      <th>61</th>\n",
       "      <td>KPU: Surat Suara Pemilu 2024 Dikirim ke Taipei...</td>\n",
       "      <td>02/Jan/2024 07:55 WIB</td>\n",
       "      <td>https://news.detik.com/pemilu/d-7119778/kpu-su...</td>\n",
       "      <td>Anggota Komisi Pemilihan Umum (KPU) RI Idham H...</td>\n",
       "    </tr>\n",
       "    <tr>\n",
       "      <th>62</th>\n",
       "      <td>Pro Kontra Pembagian Bansos Jelang Coblosan Pe...</td>\n",
       "      <td>02/Jan/2024 07:31 WIB</td>\n",
       "      <td>https://news.detik.com/pemilu/d-7119763/pro-ko...</td>\n",
       "      <td>Usulan agar pemerintah untuk menunda penyalura...</td>\n",
       "    </tr>\n",
       "    <tr>\n",
       "      <th>63</th>\n",
       "      <td>Ketua KPU Kabupaten Bogor Targetkan Tekan Angk...</td>\n",
       "      <td>02/Jan/2024 00:16 WIB</td>\n",
       "      <td>https://news.detik.com/pemilu/d-7119663/ketua-...</td>\n",
       "      <td>Ketua Komisi Pemilihan Umum (KPU) Kabupaten Bo...</td>\n",
       "    </tr>\n",
       "  </tbody>\n",
       "</table>\n",
       "<p>64 rows × 4 columns</p>\n",
       "</div>"
      ],
      "text/plain": [
       "                                                title               released  \\\n",
       "0   Poros Gerakan Pemuda Tangerang Deklarasikan Du...  01/Jan/2024 20:06 WIB   \n",
       "1   Ganjar Terima Dukungan Apmiso: Ini Menunjukkan...  01/Jan/2024 19:00 WIB   \n",
       "2   TKN Enggan MNC Dominasi TV Penyelenggara Debat...  01/Jan/2024 16:26 WIB   \n",
       "3   Momen Mardiono Gelar Silaturahmi Tirakatan Jel...  01/Jan/2024 15:23 WIB   \n",
       "4   Kata Gibran soal Klarifikasi Bawaslu Jakpus so...  01/Jan/2024 14:38 WIB   \n",
       "..                                                ...                    ...   \n",
       "59  Pemimpin Oposisi Korsel Ditikam di Leher Saat ...  02/Jan/2024 09:22 WIB   \n",
       "60  Timnas AMIN vs TPN Ganjar Usai Disindir Temany...  02/Jan/2024 08:02 WIB   \n",
       "61  KPU: Surat Suara Pemilu 2024 Dikirim ke Taipei...  02/Jan/2024 07:55 WIB   \n",
       "62  Pro Kontra Pembagian Bansos Jelang Coblosan Pe...  02/Jan/2024 07:31 WIB   \n",
       "63  Ketua KPU Kabupaten Bogor Targetkan Tekan Angk...  02/Jan/2024 00:16 WIB   \n",
       "\n",
       "                                                  url  \\\n",
       "0   https://news.detik.com/pemilu/d-7119488/poros-...   \n",
       "1   https://news.detik.com/pemilu/d-7119408/ganjar...   \n",
       "2   https://news.detik.com/pemilu/d-7119200/tkn-en...   \n",
       "3   https://news.detik.com/pemilu/d-7119082/momen-...   \n",
       "4   https://news.detik.com/pemilu/d-7119021/kata-g...   \n",
       "..                                                ...   \n",
       "59  https://news.detik.com/internasional/d-7119874...   \n",
       "60  https://news.detik.com/pemilu/d-7119793/timnas...   \n",
       "61  https://news.detik.com/pemilu/d-7119778/kpu-su...   \n",
       "62  https://news.detik.com/pemilu/d-7119763/pro-ko...   \n",
       "63  https://news.detik.com/pemilu/d-7119663/ketua-...   \n",
       "\n",
       "                                              content  \n",
       "0   Poros Gerakan Pemuda (GP) Kabupaten Tangerang ...  \n",
       "1   Asosiasi Pedagang Mie dan Bakso (Apmiso) mende...  \n",
       "2   Sekretaris Tim Kampanye Nasional (TKN) Prabowo...  \n",
       "3   Plt Ketua Umum Partai Persatuan Pembangunan (P...  \n",
       "4   Cawapres nomor urut 2 Gibran Rakabuming Raka b...  \n",
       "..                                                ...  \n",
       "59  Pemimpin oposisi Korea Selatan (Korsel), Lee J...  \n",
       "60  Timnas AMIN (Anies Baswedan-Muhaimin Iskandar)...  \n",
       "61  Anggota Komisi Pemilihan Umum (KPU) RI Idham H...  \n",
       "62  Usulan agar pemerintah untuk menunda penyalura...  \n",
       "63  Ketua Komisi Pemilihan Umum (KPU) Kabupaten Bo...  \n",
       "\n",
       "[64 rows x 4 columns]"
      ]
     },
     "execution_count": 35,
     "metadata": {},
     "output_type": "execute_result"
    }
   ],
   "source": [
    "read_data(file_path + 'result_detik_2024-03-28 12:20:44.csv')"
   ]
  },
  {
   "cell_type": "code",
   "execution_count": null,
   "metadata": {
    "id": "5T8kKu5q5ZIh"
   },
   "outputs": [],
   "source": []
  },
  {
   "cell_type": "code",
   "execution_count": null,
   "metadata": {
    "id": "0aSkz0nP5ZGL"
   },
   "outputs": [],
   "source": []
  },
  {
   "cell_type": "code",
   "execution_count": null,
   "metadata": {
    "id": "AafBbcw-5ZDk"
   },
   "outputs": [],
   "source": []
  },
  {
   "cell_type": "code",
   "execution_count": null,
   "metadata": {
    "id": "4oTRuOyo5ZBH"
   },
   "outputs": [],
   "source": []
  },
  {
   "cell_type": "code",
   "execution_count": null,
   "metadata": {},
   "outputs": [],
   "source": []
  },
  {
   "cell_type": "code",
   "execution_count": null,
   "metadata": {},
   "outputs": [],
   "source": []
  },
  {
   "cell_type": "code",
   "execution_count": null,
   "metadata": {},
   "outputs": [],
   "source": []
  },
  {
   "cell_type": "code",
   "execution_count": null,
   "metadata": {},
   "outputs": [],
   "source": []
  },
  {
   "cell_type": "code",
   "execution_count": null,
   "metadata": {},
   "outputs": [],
   "source": []
  },
  {
   "cell_type": "code",
   "execution_count": null,
   "metadata": {},
   "outputs": [],
   "source": []
  },
  {
   "cell_type": "code",
   "execution_count": null,
   "metadata": {},
   "outputs": [],
   "source": []
  },
  {
   "cell_type": "code",
   "execution_count": null,
   "metadata": {},
   "outputs": [],
   "source": []
  },
  {
   "cell_type": "code",
   "execution_count": null,
   "metadata": {},
   "outputs": [],
   "source": []
  },
  {
   "cell_type": "code",
   "execution_count": null,
   "metadata": {},
   "outputs": [],
   "source": []
  },
  {
   "cell_type": "code",
   "execution_count": null,
   "metadata": {},
   "outputs": [],
   "source": []
  },
  {
   "cell_type": "code",
   "execution_count": null,
   "metadata": {},
   "outputs": [],
   "source": []
  }
 ],
 "metadata": {
  "colab": {
   "authorship_tag": "ABX9TyPxgN1VoE5Ylf64voQS01og",
   "provenance": []
  },
  "kernelspec": {
   "display_name": "Python 3 (ipykernel)",
   "language": "python",
   "name": "python3"
  },
  "language_info": {
   "codemirror_mode": {
    "name": "ipython",
    "version": 3
   },
   "file_extension": ".py",
   "mimetype": "text/x-python",
   "name": "python",
   "nbconvert_exporter": "python",
   "pygments_lexer": "ipython3",
   "version": "3.11.4"
  }
 },
 "nbformat": 4,
 "nbformat_minor": 1
}
